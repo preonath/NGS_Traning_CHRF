{
  "cells": [
    {
      "cell_type": "code",
      "execution_count": 5,
      "metadata": {
        "colab": {
          "base_uri": "https://localhost:8080/"
        },
        "id": "CF3dZxaU_xy-",
        "outputId": "542f9b6e-cdb3-4e59-8e2d-74b2386d4ad4"
      },
      "outputs": [
        {
          "output_type": "stream",
          "name": "stdout",
          "text": [
            "Mounted at /content/drive\n"
          ]
        }
      ],
      "source": [
        "from google.colab import drive\n",
        "drive.mount('/content/drive')\n"
      ]
    },
    {
      "cell_type": "markdown",
      "metadata": {
        "id": "E1hyzdOTHu7l"
      },
      "source": [
        "## **Install FastQC** ##"
      ]
    },
    {
      "cell_type": "code",
      "execution_count": null,
      "metadata": {
        "id": "eElzWLg6ACHA"
      },
      "outputs": [],
      "source": [
        "%%bash\n",
        "#sudo apt-get install fastqc\n"
      ]
    },
    {
      "cell_type": "code",
      "execution_count": 9,
      "metadata": {
        "id": "2PXpp5hVALjf"
      },
      "outputs": [],
      "source": [
        "# Raw data access\n",
        "\n",
        "import os\n",
        "os.chdir('/content/drive/MyDrive/CHRF/Bioinformatics_Traning/NGS_Traning/')\n"
      ]
    },
    {
      "cell_type": "code",
      "execution_count": 10,
      "metadata": {
        "colab": {
          "base_uri": "https://localhost:8080/"
        },
        "id": "wOgwZ8e0Bc_d",
        "outputId": "8ce42889-32bd-4a85-a026-a9bc2f1cd18e"
      },
      "outputs": [
        {
          "output_type": "stream",
          "name": "stdout",
          "text": [
            "adapters\n",
            "Analysis_output\n",
            "Bash_scripts_Preonath.pdf\n",
            "fastp.html\n",
            "fastp.json\n",
            "NGS_Training_CHRF_final_version_v1.pptx\n",
            "NGS_Traning_Bash_Scripting.ipynb\n",
            "NGS_Traning_Bioinformatics_Analysis.ipynb\n",
            "Practice\n",
            "Raw_data\n"
          ]
        }
      ],
      "source": [
        "%%bash\n",
        "ls"
      ]
    },
    {
      "cell_type": "code",
      "execution_count": null,
      "metadata": {
        "colab": {
          "base_uri": "https://localhost:8080/"
        },
        "id": "zf3vIilgFg5k",
        "outputId": "a66f800c-098f-413f-b77a-abff6d8e6a78"
      },
      "outputs": [
        {
          "name": "stdout",
          "output_type": "stream",
          "text": [
            "GBS_0001_1.fastq.gz\n",
            "GBS_0001_2.fastq.gz\n"
          ]
        }
      ],
      "source": [
        "%%bash\n",
        "#Input files\n",
        "ls ./Raw_data"
      ]
    },
    {
      "cell_type": "code",
      "execution_count": null,
      "metadata": {
        "colab": {
          "base_uri": "https://localhost:8080/"
        },
        "id": "kSZ0SzvGBgFb",
        "outputId": "6c8aa476-0151-48b0-f1b5-0f33570c2080"
      },
      "outputs": [
        {
          "name": "stdout",
          "output_type": "stream",
          "text": [
            "mkdir: created directory '/FastQC'\n",
            "Analysis complete for GBS_0001_1.fastq.gz\n",
            "Analysis complete for GBS_0001_2.fastq.gz\n"
          ]
        },
        {
          "name": "stderr",
          "output_type": "stream",
          "text": [
            "Started analysis of GBS_0001_1.fastq.gz\n",
            "Approx 5% complete for GBS_0001_1.fastq.gz\n",
            "Approx 10% complete for GBS_0001_1.fastq.gz\n",
            "Approx 15% complete for GBS_0001_1.fastq.gz\n",
            "Approx 20% complete for GBS_0001_1.fastq.gz\n",
            "Approx 25% complete for GBS_0001_1.fastq.gz\n",
            "Approx 30% complete for GBS_0001_1.fastq.gz\n",
            "Approx 35% complete for GBS_0001_1.fastq.gz\n",
            "Approx 40% complete for GBS_0001_1.fastq.gz\n",
            "Approx 45% complete for GBS_0001_1.fastq.gz\n",
            "Approx 50% complete for GBS_0001_1.fastq.gz\n",
            "Approx 55% complete for GBS_0001_1.fastq.gz\n",
            "Approx 60% complete for GBS_0001_1.fastq.gz\n",
            "Approx 65% complete for GBS_0001_1.fastq.gz\n",
            "Approx 70% complete for GBS_0001_1.fastq.gz\n",
            "Approx 75% complete for GBS_0001_1.fastq.gz\n",
            "Approx 80% complete for GBS_0001_1.fastq.gz\n",
            "Approx 85% complete for GBS_0001_1.fastq.gz\n",
            "Approx 90% complete for GBS_0001_1.fastq.gz\n",
            "Approx 95% complete for GBS_0001_1.fastq.gz\n",
            "Started analysis of GBS_0001_2.fastq.gz\n",
            "Approx 5% complete for GBS_0001_2.fastq.gz\n",
            "Approx 10% complete for GBS_0001_2.fastq.gz\n",
            "Approx 15% complete for GBS_0001_2.fastq.gz\n",
            "Approx 20% complete for GBS_0001_2.fastq.gz\n",
            "Approx 25% complete for GBS_0001_2.fastq.gz\n",
            "Approx 30% complete for GBS_0001_2.fastq.gz\n",
            "Approx 35% complete for GBS_0001_2.fastq.gz\n",
            "Approx 40% complete for GBS_0001_2.fastq.gz\n",
            "Approx 45% complete for GBS_0001_2.fastq.gz\n",
            "Approx 50% complete for GBS_0001_2.fastq.gz\n",
            "Approx 55% complete for GBS_0001_2.fastq.gz\n",
            "Approx 60% complete for GBS_0001_2.fastq.gz\n",
            "Approx 65% complete for GBS_0001_2.fastq.gz\n",
            "Approx 70% complete for GBS_0001_2.fastq.gz\n",
            "Approx 75% complete for GBS_0001_2.fastq.gz\n",
            "Approx 80% complete for GBS_0001_2.fastq.gz\n",
            "Approx 85% complete for GBS_0001_2.fastq.gz\n",
            "Approx 90% complete for GBS_0001_2.fastq.gz\n",
            "Approx 95% complete for GBS_0001_2.fastq.gz\n"
          ]
        }
      ],
      "source": [
        "%%bash\n",
        "\n",
        "#Keep files in variable\n",
        "file_1=./Raw_data/GBS_0001_1.fastq.gz\n",
        "file_2=./Raw_data/GBS_0001_2.fastq.gz\n",
        "\n",
        "#create fastqc result directory\n",
        "mkdir -p -v ./Analysis_output/FastQC\n",
        "\n",
        "\n",
        "#run fastqc\n",
        "fastqc $file_1 $file_2 -o ./Analysis_output/FastQC\n"
      ]
    },
    {
      "cell_type": "code",
      "execution_count": null,
      "metadata": {
        "colab": {
          "base_uri": "https://localhost:8080/"
        },
        "id": "19WlgcCqD50i",
        "outputId": "98fea439-59be-4531-c750-5a2b81ba85da"
      },
      "outputs": [
        {
          "name": "stdout",
          "output_type": "stream",
          "text": [
            "GBS_0001_1_fastqc.html\n",
            "GBS_0001_1_fastqc.zip\n",
            "GBS_0001_2_fastqc.html\n",
            "GBS_0001_2_fastqc.zip\n"
          ]
        }
      ],
      "source": [
        "%%bash\n",
        "\n",
        "ls ./Analysis_output/FastQC"
      ]
    },
    {
      "cell_type": "markdown",
      "metadata": {
        "id": "0VoGC_BoHZnK"
      },
      "source": [
        "## **Install fastp** ##"
      ]
    },
    {
      "cell_type": "code",
      "execution_count": null,
      "metadata": {
        "id": "R0Iay4wIGlDX"
      },
      "outputs": [],
      "source": [
        "%%bash\n",
        "# sudo apt-get update\n",
        "# sudo apt-get install -y fastp"
      ]
    },
    {
      "cell_type": "code",
      "execution_count": null,
      "metadata": {
        "colab": {
          "base_uri": "https://localhost:8080/"
        },
        "id": "PkbuNQzeIB6w",
        "outputId": "b1967dc1-01e6-49f8-be52-defee361a2d8"
      },
      "outputs": [
        {
          "name": "stderr",
          "output_type": "stream",
          "text": [
            "Detecting adapter sequence for read1...\n",
            ">Illumina TruSeq Adapter Read 1\n",
            "AGATCGGAAGAGCACACGTCTGAACTCCAGTCA\n",
            "\n",
            "Detecting adapter sequence for read2...\n",
            "No adapter detected for read2\n",
            "\n",
            "Read1 before filtering:\n",
            "total reads: 827472\n",
            "total bases: 115753329\n",
            "Q20 bases: 114471462(98.8926%)\n",
            "Q30 bases: 111986542(96.7458%)\n",
            "\n",
            "Read2 before filtering:\n",
            "total reads: 827472\n",
            "total bases: 110446481\n",
            "Q20 bases: 108128453(97.9012%)\n",
            "Q30 bases: 104401849(94.5271%)\n",
            "\n",
            "Read1 after filtering:\n",
            "total reads: 817283\n",
            "total bases: 101952928\n",
            "Q20 bases: 101085240(99.1489%)\n",
            "Q30 bases: 98990701(97.0945%)\n",
            "\n",
            "Read2 aftering filtering:\n",
            "total reads: 817283\n",
            "total bases: 101786224\n",
            "Q20 bases: 100236281(98.4773%)\n",
            "Q30 bases: 97076249(95.3727%)\n",
            "\n",
            "Filtering result:\n",
            "reads passed filter: 1634566\n",
            "reads failed due to low quality: 68\n",
            "reads failed due to too many N: 0\n",
            "reads failed due to too short: 20310\n",
            "reads with adapter trimmed: 668286\n",
            "bases trimmed due to adapters: 21581242\n",
            "reads with polyX in 3' end: 4970\n",
            "bases trimmed in polyX tail: 48601\n",
            "\n",
            "Duplication rate: 29.2147%\n",
            "\n",
            "Insert size peak (evaluated by paired-end reads): 48\n",
            "\n",
            "JSON report: fastp.json\n",
            "HTML report: fastp.html\n",
            "\n",
            "fastp --in1 ./Raw_data/GBS_0001_1.fastq.gz --in2 ./Raw_data/GBS_0001_2.fastq.gz --out1 ./Analysis_output/Trimming_result/GBS_0001_TrmP_1.fastq.gz --out2 ./Analysis_output/Trimming_result/GBS_0001_TrmP_2.fastq.gz --average_qual 20 --length_required 35 --complexity_threshold 35 --trim_poly_g --trim_poly_x --thread 16 --detect_adapter_for_pe \n",
            "fastp v0.20.1, time used: 57 seconds\n"
          ]
        }
      ],
      "source": [
        "%%bash\n",
        "\n",
        "# Create trimming result folder\n",
        "mkdir -p -v ./Analysis_output/Trimming_result\n",
        "\n",
        "# Create variables and assign the output file paths\n",
        "\n",
        "#Keep files in variable\n",
        "file_1=./Raw_data/GBS_0001_1.fastq.gz\n",
        "file_2=./Raw_data/GBS_0001_2.fastq.gz\n",
        "\n",
        "trim_file_1=./Analysis_output/Trimming_result/GBS_0001_TrmP_1.fastq.gz\n",
        "trim_file_2=./Analysis_output/Trimming_result/GBS_0001_TrmP_2.fastq.gz\n",
        "\n",
        "\n",
        "# Run fastp\n",
        "fastp --in1 $file_1 --in2 $file_2 --out1 $trim_file_1 --out2 $trim_file_2 --average_qual 20 --length_required 35 --complexity_threshold 35 --trim_poly_g --trim_poly_x --thread 16 --detect_adapter_for_pe\n"
      ]
    },
    {
      "cell_type": "markdown",
      "metadata": {
        "id": "8UhWSg8DKYuq"
      },
      "source": [
        "## **Install unicycler** ##"
      ]
    },
    {
      "cell_type": "code",
      "execution_count": null,
      "metadata": {
        "colab": {
          "base_uri": "https://localhost:8080/"
        },
        "id": "URG2B03HLa22",
        "outputId": "55168784-652d-435b-badb-0d8d8b6cb08e"
      },
      "outputs": [
        {
          "name": "stdout",
          "output_type": "stream",
          "text": [
            "GBS_0001_TrmP_1.fastq.gz\n",
            "GBS_0001_TrmP_2.fastq.gz\n"
          ]
        }
      ],
      "source": [
        "%%bash\n",
        "\n",
        "ls  ./Analysis_output/Trimming_result"
      ]
    },
    {
      "cell_type": "code",
      "execution_count": null,
      "metadata": {
        "id": "xQtNHHYqKaRm"
      },
      "outputs": [],
      "source": [
        "%%bash\n",
        "\n",
        "#sudo apt-get install unicycler"
      ]
    },
    {
      "cell_type": "code",
      "execution_count": null,
      "metadata": {
        "colab": {
          "background_save": true
        },
        "id": "fRDgQ4-uLIHI",
        "outputId": "7c21e4b9-e36c-4b77-9b15-fb7033966d00"
      },
      "outputs": [
        {
          "name": "stdout",
          "output_type": "stream",
          "text": [
            "\n",
            "\u001b[93m\u001b[1m\u001b[4mStarting Unicycler\u001b[0m (2023-11-21 10:44:18)\n",
            "    Welcome to Unicycler, an assembly pipeline for bacterial genomes. Since you provided only short\n",
            "reads, Unicycler will essentially function as a SPAdes-optimiser. It will try many k-mer sizes,\n",
            "choose the best based on contig length and graph connectivity, and scaffold the graph using SPAdes\n",
            "repeat resolution.\n",
            "    For more information, please see https://github.com/rrwick/Unicycler\n",
            "\n",
            "Command: \u001b[1m/usr/bin/unicycler -1 ./Analysis_output/Trimming_result/GBS_0001_TrmP_1.fastq.gz -2 ./Analysis_output/Trimming_result/GBS_0001_TrmP_2.fastq.gz --min_fasta_length 300 -t 12 --keep 1 -o ./Analysis_output/Unicycler_result/\u001b[0m\n",
            "\n",
            "Unicycler version: v0.4.8\n",
            "Using 12 threads\n",
            "\n",
            "\u001b[31mWarning: you have specified a lot more threads than this machine seems to have! Was this intentional?\u001b[0m\n",
            "\n",
            "The output directory already exists and files may be reused or overwritten:\n",
            "  /content/drive/MyDrive/CHRF/Bioinformatics_Traning/NGS_Traning/Analysis_output/Unicycler_result\n",
            "\n",
            "Dependencies:\n",
            "  \u001b[4mProgram         Version     Status  \u001b[0m\n",
            "  spades          3.13.1      \u001b[32mgood\u001b[0m    \n",
            "  racon                       not used\u001b[0m\n",
            "  makeblastdb     2.12.0+     \u001b[32mgood\u001b[0m    \n",
            "  tblastn         2.12.0+     \u001b[32mgood\u001b[0m    \n",
            "  bowtie2-build   2.4.4       \u001b[32mgood\u001b[0m    \n",
            "  bowtie2         2.4.4       \u001b[32mgood\u001b[0m    \n",
            "  samtools        1.13        \u001b[32mgood\u001b[0m    \n",
            "  java            11.0.20.1   \u001b[32mgood\u001b[0m    \n",
            "  pilon           ?           \u001b[32mgood\u001b[0m    \n",
            "  bcftools                    not used\u001b[0m\n",
            "\n",
            "SPAdes graph already exists. Will use this graph instead of running SPAdes:\n",
            "  /content/drive/MyDrive/CHRF/Bioinformatics_Traning/NGS_Traning/Analysis_output/Unicycler_result/001_best_spades_graph.gfa\n",
            "\n",
            "\n",
            "\u001b[93m\u001b[1m\u001b[4mDetermining graph multiplicity\u001b[0m (2023-11-21 10:44:19)\n",
            "    Multiplicity is the number of times a sequence occurs in the underlying sequence. Single-copy\n",
            "contigs (those with a multiplicity of one, occurring only once in the underlying sequence) are\n",
            "particularly useful.\n",
            "\n",
            "\n",
            "\u001b[93m\u001b[1m\u001b[4mCleaning graph\u001b[0m (2023-11-21 10:44:19)\n",
            "    Unicycler now performs various cleaning procedures on the graph to remove overlaps and simplify\n",
            "the graph structure. The end result is a graph ready for bridging.\n",
            "\n",
            "Graph overlaps removed\n",
            "\n",
            "Removed zero-length segments:\n",
            "    31, 32, 39\n",
            "\n",
            "Merged small segments:\n",
            "    42\n",
            "\n",
            "Saving /content/drive/MyDrive/CHRF/Bioinformatics_Traning/NGS_Traning/Analysis_output/Unicycler_result/002_overlaps_removed.gfa\n",
            "\n",
            "    Unicycler now selects a set of anchor contigs from the single-copy contigs. These are the\n",
            "contigs which will be connected via bridges to form the final assembly.\n",
            "\n",
            "13 anchor segments (1,983,464 bp) out of 38 total segments (1,995,803 bp)\n",
            "\n",
            "\n",
            "\u001b[93m\u001b[1m\u001b[4mCreating SPAdes contig bridges\u001b[0m (2023-11-21 10:44:19)\n",
            "    SPAdes uses paired-end information to perform repeat resolution (RR) and produce contigs from\n",
            "the assembly graph. SPAdes saves the graph paths corresponding to these contigs in the\n",
            "contigs.paths file. When one of these paths contains two or more anchor contigs, Unicycler can\n",
            "create a bridge from the path.\n",
            "\n",
            "                         Bridge\u001b[0m\n",
            "\u001b[4mStart    Path   End     quality\u001b[0m\n",
            "    4     29    12         63.0\n",
            "\n",
            "\n",
            "\u001b[93m\u001b[1m\u001b[4mCreating loop unrolling bridges\u001b[0m (2023-11-21 10:44:19)\n",
            "    When a SPAdes contig path connects an anchor contig with the middle contig of a simple loop,\n",
            "Unicycler concludes that the sequences are contiguous (i.e. the loop is not a separate piece of\n",
            "DNA). It then uses the read depth of the middle and repeat contigs to guess the number of times to\n",
            "traverse the loop and makes a bridge.\n",
            "\n",
            "No loop unrolling bridges made\n",
            "\n",
            "\n",
            "\u001b[93m\u001b[1m\u001b[4mApplying bridges\u001b[0m (2023-11-21 10:44:19)\n",
            "    Unicycler now applies to the graph in decreasing order of quality. This ensures that when\n",
            "multiple, contradictory bridges exist, the most supported option is used.\n",
            "\n",
            "\u001b[4mBridge type   Start → end   Path   Quality\u001b[0m\n",
            "SPAdes            4 → 12    29      62.989\n",
            "\n",
            "Saving /content/drive/MyDrive/CHRF/Bioinformatics_Traning/NGS_Traning/Analysis_output/Unicycler_result/003_bridges_applied.gfa\n",
            "\n",
            "\n",
            "\u001b[93m\u001b[1m\u001b[4mBridged assembly graph\u001b[0m (2023-11-21 10:44:19)\n",
            "    The assembly is now mostly finished and no more structural changes will be made. Ideally the\n",
            "assembly graph should now have one contig per replicon and no erroneous contigs (i.e a complete\n",
            "assembly). If there are more contigs, then the assembly is not complete.\n",
            "\n",
            "Saving /content/drive/MyDrive/CHRF/Bioinformatics_Traning/NGS_Traning/Analysis_output/Unicycler_result/004_final_clean.gfa\n",
            "\n",
            "\u001b[4mComponent   Segments   Links   Length      N50       Longest segment   Status    \u001b[0m\n",
            "        1         36      49   1,995,915   581,685           686,254  \u001b[31m incomplete\u001b[0m\n",
            "\n",
            "\n",
            "\u001b[93m\u001b[1m\u001b[4mPolishing assembly with Pilon\u001b[0m (2023-11-21 10:44:19)\n",
            "    Unicycler now conducts multiple rounds of Pilon in an attempt to repair any remaining small-\n",
            "scale errors with the assembly.\n",
            "\n",
            "Aligning reads to find appropriate insert size range...\n",
            "Insert size 1st percentile:  38\n",
            "Insert size 99th percentile: 494\n",
            "\n",
            "\u001b[4mPilon polish round 1\u001b[0m\n",
            "No Pilon changes\n",
            "\n",
            "Saving /content/drive/MyDrive/CHRF/Bioinformatics_Traning/NGS_Traning/Analysis_output/Unicycler_result/005_polished.gfa\n",
            "\n",
            "\n",
            "\u001b[93m\u001b[1m\u001b[4mAssembly complete\u001b[0m (2023-11-21 11:05:43)\n",
            "Saving /content/drive/MyDrive/CHRF/Bioinformatics_Traning/NGS_Traning/Analysis_output/Unicycler_result/assembly.gfa\n",
            "Saving /content/drive/MyDrive/CHRF/Bioinformatics_Traning/NGS_Traning/Analysis_output/Unicycler_result/assembly.fasta\n",
            "\n"
          ]
        }
      ],
      "source": [
        "%%bash\n",
        "\n",
        "#Create vatiabe and keep the trimming files\n",
        "trim_file_1=./Analysis_output/Trimming_result/GBS_0001_TrmP_1.fastq.gz\n",
        "trim_file_2=./Analysis_output/Trimming_result/GBS_0001_TrmP_2.fastq.gz\n",
        "\n",
        "unicycler -1 $trim_file_1 -2 $trim_file_2 --min_fasta_length 300 -t 12 --keep 1 -o ./Analysis_output/Unicycler_result/"
      ]
    },
    {
      "cell_type": "code",
      "source": [
        "%%bash\n",
        "\n",
        "# Rename file name\n",
        "\n",
        "mv ./Analysis_output/Unicycler_result/assembly.fasta ./Analysis_output/Unicycler_result/GBS_0001.fasta"
      ],
      "metadata": {
        "id": "HxmKObCO74Z3"
      },
      "execution_count": 11,
      "outputs": []
    }
  ],
  "metadata": {
    "accelerator": "GPU",
    "colab": {
      "provenance": []
    },
    "kernelspec": {
      "display_name": "Python 3",
      "name": "python3"
    },
    "language_info": {
      "name": "python"
    }
  },
  "nbformat": 4,
  "nbformat_minor": 0
}